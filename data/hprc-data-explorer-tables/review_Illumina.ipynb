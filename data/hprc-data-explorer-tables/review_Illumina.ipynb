{
 "cells": [
  {
   "cell_type": "code",
   "execution_count": 1,
   "metadata": {},
   "outputs": [],
   "source": [
    "import boto3\n",
    "import collections\n",
    "\n",
    "import pandas as pd\n",
    "pd.set_option('display.max_columns', 500)\n",
    "pd.set_option('display.width', 1000)"
   ]
  },
  {
   "cell_type": "code",
   "execution_count": 2,
   "metadata": {},
   "outputs": [],
   "source": [
    "\n",
    "# Initialize S3 client\n",
    "s3 = boto3.client('s3', region_name='us-west-2')\n",
    "\n",
    "# Define bucket and prefix\n",
    "bucket_name = 'human-pangenomics'\n",
    "prefix = 'working/HPRC/'\n",
    "\n",
    "# Function to recursively list all files in the specified prefix\n",
    "def list_s3_files(bucket, prefix):\n",
    "    files = []\n",
    "    paginator = s3.get_paginator('list_objects_v2')\n",
    "    for page in paginator.paginate(Bucket=bucket, Prefix=prefix):\n",
    "        if 'Contents' in page:\n",
    "            for obj in page['Contents']:\n",
    "                files.append(obj['Key'])\n",
    "    return files\n",
    "\n",
    "# List files\n",
    "all_files = list_s3_files(bucket_name, prefix)\n",
    "\n",
    "# Print all files with the desired s3 path format\n",
    "s3_paths = [f\"s3://{bucket_name}/{file_path}\" for file_path in all_files]\n",
    "illumina_working = [illumina for illumina in s3_paths if 'Illumina' in illumina]\n",
    "\n",
    "illumina_df = pd.DataFrame(illumina_working, columns=['path'])\n",
    "\n",
    "# Extract sample_id from file paths and create a new column\n",
    "illumina_df['sample_ID'] = illumina_df['path'].str.extract(r'/HPRC/([^/]+)/')\n",
    "illumina_df = illumina_df[~illumina_df['path'].str.endswith(('.final.cram.crai', '.final.cram.md5'))]\n",
    "\n",
    "# child_paths = illumina_df[illumina_df['path'].str.contains('/child/')]\n",
    "# parent_paths = illumina_df[illumina_df['path'].str.contains('/parents/')]\n",
    "# parent_paths['parent_ID'] = [parent.split('/')[-1].split('.')[0] for parent in parent_paths['path'].tolist()]\n",
    "# parent_paths.drop(columns=['sample_ID'],inplace=True)\n",
    "# parent_paths.rename(columns={'parent_ID':'sample_ID'},inplace=True)"
   ]
  },
  {
   "cell_type": "code",
   "execution_count": 3,
   "metadata": {},
   "outputs": [],
   "source": [
    "pedigree_df = pd.read_csv('/private/groups/hprc/human-pangenomics/hprc-synapse-1/HPRC_metadata/data/IGSR/20130606_g1k.ped',sep='\\t')"
   ]
  },
  {
   "cell_type": "code",
   "execution_count": 4,
   "metadata": {},
   "outputs": [
    {
     "name": "stdout",
     "output_type": "stream",
     "text": [
      "281\n"
     ]
    }
   ],
   "source": [
    "illumina_table = pd.read_csv('Illumina_final_table.csv')\n",
    "print(illumina_table.sample_ID.nunique())"
   ]
  },
  {
   "cell_type": "code",
   "execution_count": 5,
   "metadata": {},
   "outputs": [],
   "source": [
    "trio_list = list()\n",
    "for k,v in collections.Counter(illumina_df['sample_ID'].tolist()).items():\n",
    "\tif v != 1:\n",
    "\t\ttrio_list.append(k)"
   ]
  },
  {
   "cell_type": "code",
   "execution_count": 31,
   "metadata": {},
   "outputs": [
    {
     "data": {
      "text/plain": [
       "270"
      ]
     },
     "execution_count": 31,
     "metadata": {},
     "output_type": "execute_result"
    }
   ],
   "source": [
    "len(collections.Counter(illumina_df['sample_ID'].tolist()).keys())"
   ]
  },
  {
   "cell_type": "code",
   "execution_count": 32,
   "metadata": {},
   "outputs": [
    {
     "data": {
      "text/plain": [
       "(281, 20)"
      ]
     },
     "execution_count": 32,
     "metadata": {},
     "output_type": "execute_result"
    }
   ],
   "source": [
    "illumina_table.shape # 16 samples are HPRC+"
   ]
  },
  {
   "cell_type": "code",
   "execution_count": 33,
   "metadata": {},
   "outputs": [
    {
     "name": "stderr",
     "output_type": "stream",
     "text": [
      "/data/tmp/ipykernel_3653645/2657880097.py:3: SettingWithCopyWarning: \n",
      "A value is trying to be set on a copy of a slice from a DataFrame.\n",
      "Try using .loc[row_indexer,col_indexer] = value instead\n",
      "\n",
      "See the caveats in the documentation: https://pandas.pydata.org/pandas-docs/stable/user_guide/indexing.html#returning-a-view-versus-a-copy\n",
      "  illumina_trios['trio'] = [sample.split('/')[-1].split('.')[0] for sample in illumina_trios['path'].tolist()]\n"
     ]
    }
   ],
   "source": [
    "# aws working trios\n",
    "illumina_trios = illumina_df[illumina_df['sample_ID'].isin(trio_list)]\n",
    "illumina_trios['trio'] = [sample.split('/')[-1].split('.')[0] for sample in illumina_trios['path'].tolist()]"
   ]
  },
  {
   "cell_type": "code",
   "execution_count": 34,
   "metadata": {},
   "outputs": [],
   "source": [
    "# Trio Children\n",
    "illumina_trio_table = illumina_table[illumina_table['sample_ID'].isin(illumina_trios[illumina_trios['sample_ID'] == illumina_trios['trio']].sample_ID.tolist())]\n"
   ]
  },
  {
   "cell_type": "code",
   "execution_count": 35,
   "metadata": {},
   "outputs": [],
   "source": [
    "pd.merge(illumina_trio_table,\n",
    "\t\t illumina_trios[illumina_trios['trio'].isin(illumina_trio_table['sample_ID'])][['path','sample_ID']],\n",
    "\t\t on='sample_ID',\n",
    "\t\t how='inner').to_csv('HPRC_Illumina_Child.sample.index.csv',index=False)"
   ]
  },
  {
   "cell_type": "code",
   "execution_count": 36,
   "metadata": {},
   "outputs": [],
   "source": [
    "# subset to maternal and paternal\n",
    "illumina_parental_trios = illumina_trios[illumina_trios['sample_ID'] != illumina_trios['trio']]\n",
    "\n",
    "# subset the trio children\n",
    "illumina_parental_trios = illumina_table[illumina_table['sample_ID'].isin(illumina_parental_trios['trio'].unique())]"
   ]
  },
  {
   "cell_type": "code",
   "execution_count": 37,
   "metadata": {},
   "outputs": [
    {
     "data": {
      "text/plain": [
       "(0, 20)"
      ]
     },
     "execution_count": 37,
     "metadata": {},
     "output_type": "execute_result"
    }
   ],
   "source": [
    "illumina_parental_trios.shape"
   ]
  },
  {
   "cell_type": "code",
   "execution_count": 30,
   "metadata": {},
   "outputs": [],
   "source": [
    "# no parental data\n",
    "# illumina_table[illumina_table['sample_ID'].isin(illumina_trios['trio'].unique())]"
   ]
  },
  {
   "cell_type": "code",
   "execution_count": 39,
   "metadata": {},
   "outputs": [],
   "source": [
    "illumina_remain_table = illumina_table[~illumina_table['sample_ID'].isin(illumina_trio_table['sample_ID'].tolist())]"
   ]
  },
  {
   "cell_type": "code",
   "execution_count": 41,
   "metadata": {},
   "outputs": [
    {
     "data": {
      "text/plain": [
       "(249, 20)"
      ]
     },
     "execution_count": 41,
     "metadata": {},
     "output_type": "execute_result"
    }
   ],
   "source": [
    "illumina_remain_table.shape"
   ]
  },
  {
   "cell_type": "code",
   "execution_count": 43,
   "metadata": {},
   "outputs": [],
   "source": [
    "# # samples that are mother father, but no children data available\n",
    "# illumina_remain_table[illumina_remain_table['Relationship'].isin(['mother','father'])].shape"
   ]
  },
  {
   "cell_type": "code",
   "execution_count": 44,
   "metadata": {},
   "outputs": [
    {
     "data": {
      "text/plain": [
       "(67, 20)"
      ]
     },
     "execution_count": 44,
     "metadata": {},
     "output_type": "execute_result"
    }
   ],
   "source": [
    "# # samples that are mother father, but no children data available\n",
    "illumina_remain_table[illumina_remain_table['Relationship'].isin(['mother','father'])].shape"
   ]
  },
  {
   "cell_type": "code",
   "execution_count": 45,
   "metadata": {},
   "outputs": [],
   "source": [
    "illumina_sample_table = pd.merge(illumina_remain_table,illumina_df[~illumina_df['sample_ID'].isin(trio_list)], on='sample_ID', how='inner')"
   ]
  },
  {
   "cell_type": "code",
   "execution_count": 47,
   "metadata": {},
   "outputs": [
    {
     "data": {
      "text/plain": [
       "(233, 21)"
      ]
     },
     "execution_count": 47,
     "metadata": {},
     "output_type": "execute_result"
    }
   ],
   "source": [
    "illumina_sample_table.shape"
   ]
  },
  {
   "cell_type": "code",
   "execution_count": 99,
   "metadata": {},
   "outputs": [],
   "source": [
    "illumina_sample_table.to_csv('HPRC_Illumina.sample.index.csv',index=False)"
   ]
  },
  {
   "cell_type": "code",
   "execution_count": 87,
   "metadata": {},
   "outputs": [
    {
     "data": {
      "text/plain": [
       "(16, 20)"
      ]
     },
     "execution_count": 87,
     "metadata": {},
     "output_type": "execute_result"
    }
   ],
   "source": [
    "# Filter out rows in illumina_df where sample_ID is in trio_list\n",
    "filtered_illumina_df = illumina_df[~illumina_df['sample_ID'].isin(trio_list)]\n",
    "\n",
    "# Check if sample_IDs in illumina_remain_table are not in the filtered illumina_df\n",
    "result = illumina_remain_table[~illumina_remain_table['sample_ID'].isin(filtered_illumina_df['sample_ID'])]\n",
    "\n",
    "result.shape\n"
   ]
  },
  {
   "cell_type": "code",
   "execution_count": 49,
   "metadata": {},
   "outputs": [
    {
     "data": {
      "text/plain": [
       "(249, 20)"
      ]
     },
     "execution_count": 49,
     "metadata": {},
     "output_type": "execute_result"
    }
   ],
   "source": [
    "illumina_remain_table.shape"
   ]
  },
  {
   "cell_type": "code",
   "execution_count": 91,
   "metadata": {},
   "outputs": [
    {
     "data": {
      "text/plain": [
       "233"
      ]
     },
     "execution_count": 91,
     "metadata": {},
     "output_type": "execute_result"
    }
   ],
   "source": [
    "illumina_remain_table.shape[0] - 16"
   ]
  },
  {
   "cell_type": "code",
   "execution_count": null,
   "metadata": {},
   "outputs": [],
   "source": [
    "# assembly index table\n",
    "assembly_index = pd.read_csv('/private/groups/hprc/human-pangenomics/hprc-data-index/hprc_intermediate_assembly/data_tables/assemblies_pre_release_v0.2.index.csv')\n"
   ]
  },
  {
   "cell_type": "code",
   "execution_count": 52,
   "metadata": {},
   "outputs": [],
   "source": [
    "illumina_child_table = pd.merge(illumina_trio_table,\n",
    "\t\t illumina_trios[illumina_trios['trio'].isin(illumina_trio_table['sample_ID'])][['path','sample_ID']],\n",
    "\t\t on='sample_ID',\n",
    "\t\t how='inner')"
   ]
  },
  {
   "cell_type": "code",
   "execution_count": 58,
   "metadata": {},
   "outputs": [
    {
     "data": {
      "text/plain": [
       "(30, 12)"
      ]
     },
     "execution_count": 58,
     "metadata": {},
     "output_type": "execute_result"
    }
   ],
   "source": [
    "assembly_index[assembly_index['sample_id'].isin(illumina_child_table['sample_ID'].tolist())].shape"
   ]
  },
  {
   "cell_type": "code",
   "execution_count": 61,
   "metadata": {},
   "outputs": [
    {
     "data": {
      "text/html": [
       "<div>\n",
       "<style scoped>\n",
       "    .dataframe tbody tr th:only-of-type {\n",
       "        vertical-align: middle;\n",
       "    }\n",
       "\n",
       "    .dataframe tbody tr th {\n",
       "        vertical-align: top;\n",
       "    }\n",
       "\n",
       "    .dataframe thead th {\n",
       "        text-align: right;\n",
       "    }\n",
       "</style>\n",
       "<table border=\"1\" class=\"dataframe\">\n",
       "  <thead>\n",
       "    <tr style=\"text-align: right;\">\n",
       "      <th></th>\n",
       "      <th>sample_ID</th>\n",
       "      <th>total_bp</th>\n",
       "      <th>coverage</th>\n",
       "      <th>filetype</th>\n",
       "      <th>instrument_model</th>\n",
       "      <th>library_construction_protocol</th>\n",
       "      <th>library_layout</th>\n",
       "      <th>library_strategy</th>\n",
       "      <th>read_length</th>\n",
       "      <th>Family ID</th>\n",
       "      <th>Paternal ID</th>\n",
       "      <th>Maternal ID</th>\n",
       "      <th>Gender</th>\n",
       "      <th>Phenotype</th>\n",
       "      <th>Population</th>\n",
       "      <th>Relationship</th>\n",
       "      <th>Siblings</th>\n",
       "      <th>Second Order</th>\n",
       "      <th>Third Order</th>\n",
       "      <th>Other Comments</th>\n",
       "      <th>path</th>\n",
       "    </tr>\n",
       "  </thead>\n",
       "  <tbody>\n",
       "    <tr>\n",
       "      <th>0</th>\n",
       "      <td>HG00097</td>\n",
       "      <td>114209267700</td>\n",
       "      <td>36.84</td>\n",
       "      <td>cram</td>\n",
       "      <td>Illumina NovaSeq 6000</td>\n",
       "      <td>TruSeq DNA PCR-free</td>\n",
       "      <td>PAIRED</td>\n",
       "      <td>WGS</td>\n",
       "      <td>150</td>\n",
       "      <td>HG00097</td>\n",
       "      <td>0</td>\n",
       "      <td>0</td>\n",
       "      <td>2</td>\n",
       "      <td>0</td>\n",
       "      <td>GBR</td>\n",
       "      <td>unrel</td>\n",
       "      <td>0</td>\n",
       "      <td>0</td>\n",
       "      <td>0</td>\n",
       "      <td>0</td>\n",
       "      <td>s3://human-pangenomics/working/HPRC/HG00097/ra...</td>\n",
       "    </tr>\n",
       "    <tr>\n",
       "      <th>3</th>\n",
       "      <td>HG00126</td>\n",
       "      <td>139636375200</td>\n",
       "      <td>45.04</td>\n",
       "      <td>cram</td>\n",
       "      <td>Illumina NovaSeq 6000</td>\n",
       "      <td>TruSeq DNA PCR-free</td>\n",
       "      <td>PAIRED</td>\n",
       "      <td>WGS</td>\n",
       "      <td>150</td>\n",
       "      <td>HG00126</td>\n",
       "      <td>0</td>\n",
       "      <td>0</td>\n",
       "      <td>1</td>\n",
       "      <td>0</td>\n",
       "      <td>GBR</td>\n",
       "      <td>unrel</td>\n",
       "      <td>0</td>\n",
       "      <td>0</td>\n",
       "      <td>0</td>\n",
       "      <td>0</td>\n",
       "      <td>s3://human-pangenomics/working/HPRC/HG00126/ra...</td>\n",
       "    </tr>\n",
       "    <tr>\n",
       "      <th>4</th>\n",
       "      <td>HG00128</td>\n",
       "      <td>147460895100</td>\n",
       "      <td>47.57</td>\n",
       "      <td>cram</td>\n",
       "      <td>Illumina NovaSeq 6000</td>\n",
       "      <td>TruSeq DNA PCR-free</td>\n",
       "      <td>PAIRED</td>\n",
       "      <td>WGS</td>\n",
       "      <td>150</td>\n",
       "      <td>HG00128</td>\n",
       "      <td>0</td>\n",
       "      <td>0</td>\n",
       "      <td>2</td>\n",
       "      <td>0</td>\n",
       "      <td>GBR</td>\n",
       "      <td>unrel</td>\n",
       "      <td>0</td>\n",
       "      <td>0</td>\n",
       "      <td>0</td>\n",
       "      <td>0</td>\n",
       "      <td>s3://human-pangenomics/working/HPRC/HG00128/ra...</td>\n",
       "    </tr>\n",
       "    <tr>\n",
       "      <th>5</th>\n",
       "      <td>HG00133</td>\n",
       "      <td>170378106600</td>\n",
       "      <td>54.96</td>\n",
       "      <td>cram</td>\n",
       "      <td>Illumina NovaSeq 6000</td>\n",
       "      <td>TruSeq DNA PCR-free</td>\n",
       "      <td>PAIRED</td>\n",
       "      <td>WGS</td>\n",
       "      <td>150</td>\n",
       "      <td>HG00133</td>\n",
       "      <td>0</td>\n",
       "      <td>0</td>\n",
       "      <td>2</td>\n",
       "      <td>0</td>\n",
       "      <td>GBR</td>\n",
       "      <td>unrel</td>\n",
       "      <td>0</td>\n",
       "      <td>0</td>\n",
       "      <td>0</td>\n",
       "      <td>0</td>\n",
       "      <td>s3://human-pangenomics/working/HPRC/HG00133/ra...</td>\n",
       "    </tr>\n",
       "    <tr>\n",
       "      <th>6</th>\n",
       "      <td>HG00146</td>\n",
       "      <td>147092152200</td>\n",
       "      <td>47.45</td>\n",
       "      <td>cram</td>\n",
       "      <td>Illumina NovaSeq 6000</td>\n",
       "      <td>TruSeq DNA PCR-free</td>\n",
       "      <td>PAIRED</td>\n",
       "      <td>WGS</td>\n",
       "      <td>150</td>\n",
       "      <td>GBR002</td>\n",
       "      <td>0</td>\n",
       "      <td>0</td>\n",
       "      <td>2</td>\n",
       "      <td>0</td>\n",
       "      <td>GBR</td>\n",
       "      <td>child</td>\n",
       "      <td>HG00147</td>\n",
       "      <td>0</td>\n",
       "      <td>0</td>\n",
       "      <td>0</td>\n",
       "      <td>s3://human-pangenomics/working/HPRC/HG00146/ra...</td>\n",
       "    </tr>\n",
       "    <tr>\n",
       "      <th>...</th>\n",
       "      <td>...</td>\n",
       "      <td>...</td>\n",
       "      <td>...</td>\n",
       "      <td>...</td>\n",
       "      <td>...</td>\n",
       "      <td>...</td>\n",
       "      <td>...</td>\n",
       "      <td>...</td>\n",
       "      <td>...</td>\n",
       "      <td>...</td>\n",
       "      <td>...</td>\n",
       "      <td>...</td>\n",
       "      <td>...</td>\n",
       "      <td>...</td>\n",
       "      <td>...</td>\n",
       "      <td>...</td>\n",
       "      <td>...</td>\n",
       "      <td>...</td>\n",
       "      <td>...</td>\n",
       "      <td>...</td>\n",
       "      <td>...</td>\n",
       "    </tr>\n",
       "    <tr>\n",
       "      <th>228</th>\n",
       "      <td>HG02976</td>\n",
       "      <td>114203101500</td>\n",
       "      <td>36.84</td>\n",
       "      <td>cram</td>\n",
       "      <td>Illumina NovaSeq 6000</td>\n",
       "      <td>TruSeq DNA PCR-free</td>\n",
       "      <td>PAIRED</td>\n",
       "      <td>WGS</td>\n",
       "      <td>150</td>\n",
       "      <td>NG24</td>\n",
       "      <td>0</td>\n",
       "      <td>0</td>\n",
       "      <td>2</td>\n",
       "      <td>0</td>\n",
       "      <td>ESN</td>\n",
       "      <td>mother</td>\n",
       "      <td>0</td>\n",
       "      <td>0</td>\n",
       "      <td>0</td>\n",
       "      <td>0</td>\n",
       "      <td>s3://human-pangenomics/working/HPRC/HG02976/ra...</td>\n",
       "    </tr>\n",
       "    <tr>\n",
       "      <th>229</th>\n",
       "      <td>HG02135</td>\n",
       "      <td>117794844000</td>\n",
       "      <td>38.00</td>\n",
       "      <td>cram</td>\n",
       "      <td>Illumina NovaSeq 6000</td>\n",
       "      <td>TruSeq DNA PCR-free</td>\n",
       "      <td>PAIRED</td>\n",
       "      <td>WGS</td>\n",
       "      <td>150</td>\n",
       "      <td>VN081</td>\n",
       "      <td>HG02137</td>\n",
       "      <td>HG02136</td>\n",
       "      <td>1</td>\n",
       "      <td>0</td>\n",
       "      <td>KHV</td>\n",
       "      <td>child</td>\n",
       "      <td>0</td>\n",
       "      <td>0</td>\n",
       "      <td>0</td>\n",
       "      <td>0</td>\n",
       "      <td>s3://human-pangenomics/working/HPRC/HG02135/ra...</td>\n",
       "    </tr>\n",
       "    <tr>\n",
       "      <th>230</th>\n",
       "      <td>HG02071</td>\n",
       "      <td>119457197700</td>\n",
       "      <td>38.53</td>\n",
       "      <td>cram</td>\n",
       "      <td>Illumina NovaSeq 6000</td>\n",
       "      <td>TruSeq DNA PCR-free</td>\n",
       "      <td>PAIRED</td>\n",
       "      <td>WGS</td>\n",
       "      <td>150</td>\n",
       "      <td>VN065</td>\n",
       "      <td>HG02073</td>\n",
       "      <td>HG02072</td>\n",
       "      <td>1</td>\n",
       "      <td>0</td>\n",
       "      <td>KHV</td>\n",
       "      <td>child</td>\n",
       "      <td>0</td>\n",
       "      <td>0</td>\n",
       "      <td>0</td>\n",
       "      <td>0</td>\n",
       "      <td>s3://human-pangenomics/working/HPRC/HG02071/ra...</td>\n",
       "    </tr>\n",
       "    <tr>\n",
       "      <th>231</th>\n",
       "      <td>HG03710</td>\n",
       "      <td>115625752800</td>\n",
       "      <td>37.30</td>\n",
       "      <td>cram</td>\n",
       "      <td>Illumina NovaSeq 6000</td>\n",
       "      <td>TruSeq DNA PCR-free</td>\n",
       "      <td>PAIRED</td>\n",
       "      <td>WGS</td>\n",
       "      <td>150</td>\n",
       "      <td>PK62</td>\n",
       "      <td>HG03708</td>\n",
       "      <td>HG03709</td>\n",
       "      <td>1</td>\n",
       "      <td>0</td>\n",
       "      <td>PJL</td>\n",
       "      <td>child</td>\n",
       "      <td>0</td>\n",
       "      <td>0</td>\n",
       "      <td>0</td>\n",
       "      <td>0</td>\n",
       "      <td>s3://human-pangenomics/working/HPRC/HG03710/ra...</td>\n",
       "    </tr>\n",
       "    <tr>\n",
       "      <th>232</th>\n",
       "      <td>HG01934</td>\n",
       "      <td>121591068900</td>\n",
       "      <td>39.22</td>\n",
       "      <td>cram</td>\n",
       "      <td>Illumina NovaSeq 6000</td>\n",
       "      <td>TruSeq DNA PCR-free</td>\n",
       "      <td>PAIRED</td>\n",
       "      <td>WGS</td>\n",
       "      <td>150</td>\n",
       "      <td>PEL013</td>\n",
       "      <td>HG01932</td>\n",
       "      <td>HG01933</td>\n",
       "      <td>1</td>\n",
       "      <td>0</td>\n",
       "      <td>PEL</td>\n",
       "      <td>child</td>\n",
       "      <td>0</td>\n",
       "      <td>0</td>\n",
       "      <td>0</td>\n",
       "      <td>0</td>\n",
       "      <td>s3://human-pangenomics/working/HPRC/HG01934/ra...</td>\n",
       "    </tr>\n",
       "  </tbody>\n",
       "</table>\n",
       "<p>151 rows × 21 columns</p>\n",
       "</div>"
      ],
      "text/plain": [
       "    sample_ID      total_bp  coverage filetype       instrument_model library_construction_protocol library_layout library_strategy  read_length Family ID Paternal ID Maternal ID  Gender  Phenotype Population Relationship Siblings Second Order Third Order Other Comments                                               path\n",
       "0     HG00097  114209267700     36.84     cram  Illumina NovaSeq 6000           TruSeq DNA PCR-free         PAIRED              WGS          150   HG00097           0           0       2          0        GBR        unrel        0            0           0              0  s3://human-pangenomics/working/HPRC/HG00097/ra...\n",
       "3     HG00126  139636375200     45.04     cram  Illumina NovaSeq 6000           TruSeq DNA PCR-free         PAIRED              WGS          150   HG00126           0           0       1          0        GBR        unrel        0            0           0              0  s3://human-pangenomics/working/HPRC/HG00126/ra...\n",
       "4     HG00128  147460895100     47.57     cram  Illumina NovaSeq 6000           TruSeq DNA PCR-free         PAIRED              WGS          150   HG00128           0           0       2          0        GBR        unrel        0            0           0              0  s3://human-pangenomics/working/HPRC/HG00128/ra...\n",
       "5     HG00133  170378106600     54.96     cram  Illumina NovaSeq 6000           TruSeq DNA PCR-free         PAIRED              WGS          150   HG00133           0           0       2          0        GBR        unrel        0            0           0              0  s3://human-pangenomics/working/HPRC/HG00133/ra...\n",
       "6     HG00146  147092152200     47.45     cram  Illumina NovaSeq 6000           TruSeq DNA PCR-free         PAIRED              WGS          150    GBR002           0           0       2          0        GBR        child  HG00147            0           0              0  s3://human-pangenomics/working/HPRC/HG00146/ra...\n",
       "..        ...           ...       ...      ...                    ...                           ...            ...              ...          ...       ...         ...         ...     ...        ...        ...          ...      ...          ...         ...            ...                                                ...\n",
       "228   HG02976  114203101500     36.84     cram  Illumina NovaSeq 6000           TruSeq DNA PCR-free         PAIRED              WGS          150      NG24           0           0       2          0        ESN       mother        0            0           0              0  s3://human-pangenomics/working/HPRC/HG02976/ra...\n",
       "229   HG02135  117794844000     38.00     cram  Illumina NovaSeq 6000           TruSeq DNA PCR-free         PAIRED              WGS          150     VN081     HG02137     HG02136       1          0        KHV        child        0            0           0              0  s3://human-pangenomics/working/HPRC/HG02135/ra...\n",
       "230   HG02071  119457197700     38.53     cram  Illumina NovaSeq 6000           TruSeq DNA PCR-free         PAIRED              WGS          150     VN065     HG02073     HG02072       1          0        KHV        child        0            0           0              0  s3://human-pangenomics/working/HPRC/HG02071/ra...\n",
       "231   HG03710  115625752800     37.30     cram  Illumina NovaSeq 6000           TruSeq DNA PCR-free         PAIRED              WGS          150      PK62     HG03708     HG03709       1          0        PJL        child        0            0           0              0  s3://human-pangenomics/working/HPRC/HG03710/ra...\n",
       "232   HG01934  121591068900     39.22     cram  Illumina NovaSeq 6000           TruSeq DNA PCR-free         PAIRED              WGS          150    PEL013     HG01932     HG01933       1          0        PEL        child        0            0           0              0  s3://human-pangenomics/working/HPRC/HG01934/ra...\n",
       "\n",
       "[151 rows x 21 columns]"
      ]
     },
     "execution_count": 61,
     "metadata": {},
     "output_type": "execute_result"
    }
   ],
   "source": [
    "illumina_sample_table[illumina_sample_table['sample_ID'].isin(assembly_index['sample_id'].tolist())].to_csv('/private/groups/hprc/human-pangenomics/hprc-data-index/hprc_intermediate_assembly/data_tables/data_Illumina_pre_release.index.csv',index=False)"
   ]
  },
  {
   "cell_type": "code",
   "execution_count": null,
   "metadata": {},
   "outputs": [],
   "source": []
  },
  {
   "cell_type": "code",
   "execution_count": null,
   "metadata": {},
   "outputs": [],
   "source": []
  },
  {
   "cell_type": "code",
   "execution_count": 47,
   "metadata": {},
   "outputs": [
    {
     "data": {
      "text/plain": [
       "[]"
      ]
     },
     "execution_count": 47,
     "metadata": {},
     "output_type": "execute_result"
    }
   ],
   "source": [
    "[sample for sample in illumina_trios['trio'].tolist() if sample in illumina_table['sample_ID'].tolist()]"
   ]
  },
  {
   "cell_type": "code",
   "execution_count": 39,
   "metadata": {},
   "outputs": [
    {
     "data": {
      "text/plain": [
       "32"
      ]
     },
     "execution_count": 39,
     "metadata": {},
     "output_type": "execute_result"
    }
   ],
   "source": [
    "len(set([sample for sample in illumina_trios['sample_ID'].tolist() + illumina_trios['trio'].tolist() if sample in illumina_table['sample_ID'].tolist()]))"
   ]
  },
  {
   "cell_type": "code",
   "execution_count": null,
   "metadata": {},
   "outputs": [],
   "source": []
  },
  {
   "cell_type": "code",
   "execution_count": null,
   "metadata": {},
   "outputs": [],
   "source": []
  },
  {
   "cell_type": "code",
   "execution_count": null,
   "metadata": {},
   "outputs": [],
   "source": []
  },
  {
   "cell_type": "code",
   "execution_count": null,
   "metadata": {},
   "outputs": [],
   "source": []
  },
  {
   "cell_type": "code",
   "execution_count": 11,
   "metadata": {},
   "outputs": [],
   "source": [
    "# print(illumina_df.shape)\n",
    "# print(parent_paths.shape)\n",
    "# print(child_paths.shape)"
   ]
  },
  {
   "cell_type": "code",
   "execution_count": 50,
   "metadata": {},
   "outputs": [],
   "source": []
  },
  {
   "cell_type": "code",
   "execution_count": 10,
   "metadata": {},
   "outputs": [
    {
     "data": {
      "text/html": [
       "<div>\n",
       "<style scoped>\n",
       "    .dataframe tbody tr th:only-of-type {\n",
       "        vertical-align: middle;\n",
       "    }\n",
       "\n",
       "    .dataframe tbody tr th {\n",
       "        vertical-align: top;\n",
       "    }\n",
       "\n",
       "    .dataframe thead th {\n",
       "        text-align: right;\n",
       "    }\n",
       "</style>\n",
       "<table border=\"1\" class=\"dataframe\">\n",
       "  <thead>\n",
       "    <tr style=\"text-align: right;\">\n",
       "      <th></th>\n",
       "      <th>sample_id</th>\n",
       "      <th>phasing</th>\n",
       "      <th>hap1_genbank_accession</th>\n",
       "      <th>hap2_genbank_accession</th>\n",
       "      <th>hap2_fa_gz_md5</th>\n",
       "      <th>hap2_fa_gz_fai</th>\n",
       "      <th>hap2_fa_gz_gzi</th>\n",
       "      <th>hap2_fa_gz</th>\n",
       "      <th>hap1_fa_gz_md5</th>\n",
       "      <th>hap1_fa_gz_fai</th>\n",
       "      <th>hap1_fa_gz_gzi</th>\n",
       "      <th>hap1_fa_gz</th>\n",
       "    </tr>\n",
       "  </thead>\n",
       "  <tbody>\n",
       "    <tr>\n",
       "      <th>0</th>\n",
       "      <td>HG00408</td>\n",
       "      <td>trio</td>\n",
       "      <td>GCA_041900255.1</td>\n",
       "      <td>GCA_041900245.1</td>\n",
       "      <td>s3://human-pangenomics/submissions/DC27718F-5F...</td>\n",
       "      <td>s3://human-pangenomics/submissions/DC27718F-5F...</td>\n",
       "      <td>s3://human-pangenomics/submissions/DC27718F-5F...</td>\n",
       "      <td>s3://human-pangenomics/submissions/DC27718F-5F...</td>\n",
       "      <td>s3://human-pangenomics/submissions/DC27718F-5F...</td>\n",
       "      <td>s3://human-pangenomics/submissions/DC27718F-5F...</td>\n",
       "      <td>s3://human-pangenomics/submissions/DC27718F-5F...</td>\n",
       "      <td>s3://human-pangenomics/submissions/DC27718F-5F...</td>\n",
       "    </tr>\n",
       "    <tr>\n",
       "      <th>1</th>\n",
       "      <td>HG00597</td>\n",
       "      <td>trio</td>\n",
       "      <td>GCA_041900365.1</td>\n",
       "      <td>GCA_041900265.1</td>\n",
       "      <td>s3://human-pangenomics/submissions/DC27718F-5F...</td>\n",
       "      <td>s3://human-pangenomics/submissions/DC27718F-5F...</td>\n",
       "      <td>s3://human-pangenomics/submissions/DC27718F-5F...</td>\n",
       "      <td>s3://human-pangenomics/submissions/DC27718F-5F...</td>\n",
       "      <td>s3://human-pangenomics/submissions/DC27718F-5F...</td>\n",
       "      <td>s3://human-pangenomics/submissions/DC27718F-5F...</td>\n",
       "      <td>s3://human-pangenomics/submissions/DC27718F-5F...</td>\n",
       "      <td>s3://human-pangenomics/submissions/DC27718F-5F...</td>\n",
       "    </tr>\n",
       "    <tr>\n",
       "      <th>2</th>\n",
       "      <td>HG01192</td>\n",
       "      <td>trio</td>\n",
       "      <td>GCA_041900145.1</td>\n",
       "      <td>GCA_041900275.1</td>\n",
       "      <td>s3://human-pangenomics/submissions/DC27718F-5F...</td>\n",
       "      <td>s3://human-pangenomics/submissions/DC27718F-5F...</td>\n",
       "      <td>s3://human-pangenomics/submissions/DC27718F-5F...</td>\n",
       "      <td>s3://human-pangenomics/submissions/DC27718F-5F...</td>\n",
       "      <td>s3://human-pangenomics/submissions/DC27718F-5F...</td>\n",
       "      <td>s3://human-pangenomics/submissions/DC27718F-5F...</td>\n",
       "      <td>s3://human-pangenomics/submissions/DC27718F-5F...</td>\n",
       "      <td>s3://human-pangenomics/submissions/DC27718F-5F...</td>\n",
       "    </tr>\n",
       "    <tr>\n",
       "      <th>3</th>\n",
       "      <td>HG01261</td>\n",
       "      <td>trio</td>\n",
       "      <td>GCA_041900235.1</td>\n",
       "      <td>GCA_041899995.1</td>\n",
       "      <td>s3://human-pangenomics/submissions/DC27718F-5F...</td>\n",
       "      <td>s3://human-pangenomics/submissions/DC27718F-5F...</td>\n",
       "      <td>s3://human-pangenomics/submissions/DC27718F-5F...</td>\n",
       "      <td>s3://human-pangenomics/submissions/DC27718F-5F...</td>\n",
       "      <td>s3://human-pangenomics/submissions/DC27718F-5F...</td>\n",
       "      <td>s3://human-pangenomics/submissions/DC27718F-5F...</td>\n",
       "      <td>s3://human-pangenomics/submissions/DC27718F-5F...</td>\n",
       "      <td>s3://human-pangenomics/submissions/DC27718F-5F...</td>\n",
       "    </tr>\n",
       "    <tr>\n",
       "      <th>4</th>\n",
       "      <td>HG02015</td>\n",
       "      <td>trio</td>\n",
       "      <td>GCA_041900165.1</td>\n",
       "      <td>GCA_041900105.1</td>\n",
       "      <td>s3://human-pangenomics/submissions/DC27718F-5F...</td>\n",
       "      <td>s3://human-pangenomics/submissions/DC27718F-5F...</td>\n",
       "      <td>s3://human-pangenomics/submissions/DC27718F-5F...</td>\n",
       "      <td>s3://human-pangenomics/submissions/DC27718F-5F...</td>\n",
       "      <td>s3://human-pangenomics/submissions/DC27718F-5F...</td>\n",
       "      <td>s3://human-pangenomics/submissions/DC27718F-5F...</td>\n",
       "      <td>s3://human-pangenomics/submissions/DC27718F-5F...</td>\n",
       "      <td>s3://human-pangenomics/submissions/DC27718F-5F...</td>\n",
       "    </tr>\n",
       "  </tbody>\n",
       "</table>\n",
       "</div>"
      ],
      "text/plain": [
       "  sample_id phasing hap1_genbank_accession hap2_genbank_accession                                     hap2_fa_gz_md5                                     hap2_fa_gz_fai                                     hap2_fa_gz_gzi                                         hap2_fa_gz                                     hap1_fa_gz_md5                                     hap1_fa_gz_fai                                     hap1_fa_gz_gzi                                         hap1_fa_gz\n",
       "0   HG00408    trio        GCA_041900255.1        GCA_041900245.1  s3://human-pangenomics/submissions/DC27718F-5F...  s3://human-pangenomics/submissions/DC27718F-5F...  s3://human-pangenomics/submissions/DC27718F-5F...  s3://human-pangenomics/submissions/DC27718F-5F...  s3://human-pangenomics/submissions/DC27718F-5F...  s3://human-pangenomics/submissions/DC27718F-5F...  s3://human-pangenomics/submissions/DC27718F-5F...  s3://human-pangenomics/submissions/DC27718F-5F...\n",
       "1   HG00597    trio        GCA_041900365.1        GCA_041900265.1  s3://human-pangenomics/submissions/DC27718F-5F...  s3://human-pangenomics/submissions/DC27718F-5F...  s3://human-pangenomics/submissions/DC27718F-5F...  s3://human-pangenomics/submissions/DC27718F-5F...  s3://human-pangenomics/submissions/DC27718F-5F...  s3://human-pangenomics/submissions/DC27718F-5F...  s3://human-pangenomics/submissions/DC27718F-5F...  s3://human-pangenomics/submissions/DC27718F-5F...\n",
       "2   HG01192    trio        GCA_041900145.1        GCA_041900275.1  s3://human-pangenomics/submissions/DC27718F-5F...  s3://human-pangenomics/submissions/DC27718F-5F...  s3://human-pangenomics/submissions/DC27718F-5F...  s3://human-pangenomics/submissions/DC27718F-5F...  s3://human-pangenomics/submissions/DC27718F-5F...  s3://human-pangenomics/submissions/DC27718F-5F...  s3://human-pangenomics/submissions/DC27718F-5F...  s3://human-pangenomics/submissions/DC27718F-5F...\n",
       "3   HG01261    trio        GCA_041900235.1        GCA_041899995.1  s3://human-pangenomics/submissions/DC27718F-5F...  s3://human-pangenomics/submissions/DC27718F-5F...  s3://human-pangenomics/submissions/DC27718F-5F...  s3://human-pangenomics/submissions/DC27718F-5F...  s3://human-pangenomics/submissions/DC27718F-5F...  s3://human-pangenomics/submissions/DC27718F-5F...  s3://human-pangenomics/submissions/DC27718F-5F...  s3://human-pangenomics/submissions/DC27718F-5F...\n",
       "4   HG02015    trio        GCA_041900165.1        GCA_041900105.1  s3://human-pangenomics/submissions/DC27718F-5F...  s3://human-pangenomics/submissions/DC27718F-5F...  s3://human-pangenomics/submissions/DC27718F-5F...  s3://human-pangenomics/submissions/DC27718F-5F...  s3://human-pangenomics/submissions/DC27718F-5F...  s3://human-pangenomics/submissions/DC27718F-5F...  s3://human-pangenomics/submissions/DC27718F-5F...  s3://human-pangenomics/submissions/DC27718F-5F..."
      ]
     },
     "execution_count": 10,
     "metadata": {},
     "output_type": "execute_result"
    }
   ],
   "source": [
    "assembly_index.head()"
   ]
  },
  {
   "cell_type": "code",
   "execution_count": 174,
   "metadata": {},
   "outputs": [],
   "source": [
    "# subset to illumina trios in assembly index\n",
    "illumina_trio = illumina_table[illumina_table['sample_ID'].isin(assembly_index[assembly_index['phasing'].isin(['trio'])].sample_id.tolist())] "
   ]
  },
  {
   "cell_type": "code",
   "execution_count": 2,
   "metadata": {},
   "outputs": [],
   "source": [
    "child = pd.read_csv('HPRC_Illumina_Child.sample.index.csv')\n",
    "parent = pd.read_csv('HPRC_Illumina_Parental.sample.index.csv')\n",
    "nore = pd.read_csv('HPRC_Illumina.sample.index.csv')"
   ]
  }
 ],
 "metadata": {
  "kernelspec": {
   "display_name": "Python 3",
   "language": "python",
   "name": "python3"
  },
  "language_info": {
   "codemirror_mode": {
    "name": "ipython",
    "version": 3
   },
   "file_extension": ".py",
   "mimetype": "text/x-python",
   "name": "python",
   "nbconvert_exporter": "python",
   "pygments_lexer": "ipython3",
   "version": "3.10.12"
  }
 },
 "nbformat": 4,
 "nbformat_minor": 2
}
